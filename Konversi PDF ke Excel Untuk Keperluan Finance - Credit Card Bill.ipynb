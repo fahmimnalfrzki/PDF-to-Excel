{
 "cells": [
  {
   "cell_type": "code",
   "execution_count": null,
   "metadata": {},
   "outputs": [],
   "source": [
    "import camelot\n",
    "import pandas as pd\n",
    "from glob import glob\n",
    "import os\n",
    "from zipfile import ZipFile\n",
    "from datetime import datetime\n",
    "\n",
    "\n",
    "area1='0,600,380,570'\n",
    "area2='0,570,380,400'\n",
    "area3='0,400,380,300'\n",
    "\n",
    "path_=\"C:/Users/ASUS/mbaandin/\"\n",
    "ls_file=os.listdir(path_)\n",
    "now = str(datetime.now())\n",
    "\n",
    "def pdf_to_excel(file,psswd,area,namafile,path):\n",
    "    tables = camelot.read_pdf(path+file,password=psswd,flavor='stream', table_areas=[area])\n",
    "    dat=tables[0].df # get a pandas DataFrame!\n",
    "\n",
    "    date = pd.to_datetime(dat[0], errors='coerce')\n",
    "    ket=[]\n",
    "    b=dat[1].str.split(n=1).str[0]\n",
    "    b1=dat[1].str.split(n=1).str[1]\n",
    "    c=pd.to_datetime(b, errors='coerce')\n",
    "    for i in range(len(c)):\n",
    "        if pd.isnull(c[i])==True:\n",
    "            ket.append('{} {}'.format(b[i],b1[i]))\n",
    "        else:\n",
    "            ket.append(b1[i])\n",
    "\n",
    "    val={\n",
    "        'Tanggal Transaksi':date,\n",
    "        'Tanggal Pembukuan':c,\n",
    "        'Rincian Transaksi':ket,\n",
    "        'Jumlah (Rp)':dat[2].replace('.', '')\n",
    "    }\n",
    "\n",
    "    billing=pd.DataFrame(val)\n",
    "    if area=='0,600,380,570' or area=='0,400,380,300':\n",
    "        billing['Tanggal Transaksi'][1]=dat[0][1]\n",
    "    return billing\n",
    "\n",
    "for file in ls_file:\n",
    "    passwd=file.split(' - ')[1].split('.pdf')[0]\n",
    "    tmp=pdf_to_excel(file,passwd,area1,file,path_).append(pdf_to_excel(file,passwd,area2,file,path_))\n",
    "    try:\n",
    "        tmp=tmp.append(pdf_to_excel(file,passwd,area3,file,path_))\n",
    "    except:\n",
    "        pass\n",
    "    tmp['Rincian Transaksi']=tmp['Rincian Transaksi'].str.replace(' nan','')\n",
    "    tmp.to_excel(\"{}{}.xlsx\".format(path_,file[:-4]),index=False)\n",
    "\n",
    "with ZipFile(\"CC Receipt PDF to XLSX.zip\".format(now), 'w') as zipObj2:\n",
    "    for excel in glob(path_+'*xlsx'):\n",
    "        zipObj2.write(excel)"
   ]
  }
 ],
 "metadata": {
  "kernelspec": {
   "display_name": "Python 3",
   "language": "python",
   "name": "python3"
  },
  "language_info": {
   "codemirror_mode": {
    "name": "ipython",
    "version": 3
   },
   "file_extension": ".py",
   "mimetype": "text/x-python",
   "name": "python",
   "nbconvert_exporter": "python",
   "pygments_lexer": "ipython3",
   "version": "3.7.6"
  }
 },
 "nbformat": 4,
 "nbformat_minor": 4
}
